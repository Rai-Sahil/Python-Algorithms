{
 "cells": [
  {
   "cell_type": "code",
   "execution_count": 7,
   "id": "cde4d5fc",
   "metadata": {},
   "outputs": [
    {
     "name": "stdout",
     "output_type": "stream",
     "text": [
      "[1, 2, 3, 4, 5, 6, 7]\n"
     ]
    }
   ],
   "source": [
    "class Node():\n",
    "    def __init__(self, val, left = None, right = None):\n",
    "        self.val = val\n",
    "        self.left = None\n",
    "        self.right = None\n",
    "        \n",
    "def inorder_traversal(root, res):\n",
    "    stack = []\n",
    "    current = root\n",
    "    while current or stack:\n",
    "        while current:\n",
    "            stack.append(current)\n",
    "            current = current.left\n",
    "        current = stack.pop()\n",
    "        res.append(current.val)\n",
    "        current = current.right\n",
    "    return res\n",
    "        \n",
    "def main():\n",
    "    root = Node(4)\n",
    "    root.left = Node(2)\n",
    "    root.left.right = Node(3)\n",
    "    root.left.left = Node(1)\n",
    "    root.right = Node(6)\n",
    "    root.right.right = Node(7)\n",
    "    root.right.left = Node(5)\n",
    "    \n",
    "    res = []\n",
    "    \n",
    "    res = inorder_traversal(root, res)\n",
    "    \n",
    "    print(res)\n",
    "    \n",
    "if __name__ == \"__main__\":\n",
    "    main()"
   ]
  },
  {
   "cell_type": "code",
   "execution_count": null,
   "id": "f9c92c56",
   "metadata": {},
   "outputs": [],
   "source": []
  }
 ],
 "metadata": {
  "kernelspec": {
   "display_name": "Python 3 (ipykernel)",
   "language": "python",
   "name": "python3"
  },
  "language_info": {
   "codemirror_mode": {
    "name": "ipython",
    "version": 3
   },
   "file_extension": ".py",
   "mimetype": "text/x-python",
   "name": "python",
   "nbconvert_exporter": "python",
   "pygments_lexer": "ipython3",
   "version": "3.11.4"
  }
 },
 "nbformat": 4,
 "nbformat_minor": 5
}
