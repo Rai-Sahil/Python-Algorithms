{
 "cells": [
  {
   "cell_type": "code",
   "execution_count": 6,
   "id": "c02fbabc",
   "metadata": {},
   "outputs": [],
   "source": [
    "class ListNode():\n",
    "    def __init__(self, value = 0, next = None):\n",
    "        self.value = value\n",
    "        self.next = next\n",
    "        \n",
    "def LL(arr):\n",
    "    head = ListNode(arr[0])\n",
    "    head2 = ListNode(arr[1])\n",
    "    head3 = ListNode(arr[2])\n",
    "    head4 = ListNode(arr[3])\n",
    "    \n",
    "    head.next = head2\n",
    "    head2.next = head3\n",
    "    head3.next = head4\n",
    "    return head"
   ]
  },
  {
   "cell_type": "code",
   "execution_count": 7,
   "id": "2e580925",
   "metadata": {},
   "outputs": [],
   "source": [
    "# Recursively insert a node in LinkedList\n",
    "def recurse(head, n):\n",
    "    if n == 1:\n",
    "        return head\n",
    "    else:\n",
    "        return recurse(head.next, n - 1)\n",
    "\n",
    "def worker():\n",
    "    head = LL([1, 2, 3, 4])\n",
    "    i = recurse(head, 2)\n",
    "    newNode = ListNode(10)\n",
    "    nextVal = i.next ### Save i.next\n",
    "    i.next = newNode ### add newNode in between\n",
    "    newNode.next = nextVal\n",
    "\n",
    "worker()"
   ]
  },
  {
   "cell_type": "code",
   "execution_count": 16,
   "id": "d51d9f97",
   "metadata": {},
   "outputs": [
    {
     "name": "stdout",
     "output_type": "stream",
     "text": [
      "<__main__.ListNode object at 0x108d6cb50>\n"
     ]
    }
   ],
   "source": [
    "# Mergesort LinkedList\n",
    "def getMid(head):\n",
    "    fast = head.next\n",
    "    slow = head\n",
    "    \n",
    "    while fast and fast.next:\n",
    "        fast = fast.next.next\n",
    "        slow = slow.next\n",
    "    \n",
    "    mid = slow.next\n",
    "    slow.next = None\n",
    "    return mid\n",
    "\n",
    "def merge(l1, l2):\n",
    "    ans = head = ListNode()\n",
    "    \n",
    "    while l1 and l2:\n",
    "        if l1.value < l2.value:\n",
    "            ans.next = l1\n",
    "            l1 = l1.next\n",
    "        else:\n",
    "            ans.next = l2\n",
    "            l2 = l2.next\n",
    "            \n",
    "        ans = ans.next\n",
    "    \n",
    "    if l1 or l2:\n",
    "        ans.next = l1 if l1 else l2\n",
    "        \n",
    "    return head.next\n",
    "\n",
    "def merge_sort(h1):\n",
    "    \n",
    "    if h1 is None or h1.next is None:\n",
    "        return h1\n",
    "    \n",
    "    mid = getMid(h1)\n",
    "    \n",
    "    left = merge_sort(h1)\n",
    "    right = merge_sort(mid)\n",
    "    \n",
    "    return merge(left, right)\n",
    "\n",
    "h1 = LL([1, 10, 14, 9])\n",
    "LL = merge_sort(h1)\n",
    "print(LL)"
   ]
  },
  {
   "cell_type": "code",
   "execution_count": null,
   "id": "e1ad2e6e",
   "metadata": {},
   "outputs": [],
   "source": []
  }
 ],
 "metadata": {
  "kernelspec": {
   "display_name": "Python 3 (ipykernel)",
   "language": "python",
   "name": "python3"
  },
  "language_info": {
   "codemirror_mode": {
    "name": "ipython",
    "version": 3
   },
   "file_extension": ".py",
   "mimetype": "text/x-python",
   "name": "python",
   "nbconvert_exporter": "python",
   "pygments_lexer": "ipython3",
   "version": "3.11.4"
  }
 },
 "nbformat": 4,
 "nbformat_minor": 5
}
