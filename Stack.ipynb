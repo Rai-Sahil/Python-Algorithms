{
 "cells": [
  {
   "cell_type": "code",
   "execution_count": 6,
   "id": "afbe4ea8",
   "metadata": {},
   "outputs": [
    {
     "name": "stdout",
     "output_type": "stream",
     "text": [
      "[4, 1, 2, 3]\n"
     ]
    },
    {
     "data": {
      "text/plain": [
       "0"
      ]
     },
     "execution_count": 6,
     "metadata": {},
     "output_type": "execute_result"
    }
   ],
   "source": [
    "# Insert the value at the botom of the stack (recursively)\n",
    "def insert(stack, value):\n",
    "    if len(stack) == 0:\n",
    "        stack.append(value)\n",
    "        return stack\n",
    "    else:\n",
    "        prev = stack.pop()\n",
    "        insert(stack, value)\n",
    "        stack.append(prev)\n",
    "        return stack\n",
    "    \n",
    "def main():\n",
    "    stack = []\n",
    "    \n",
    "    stack.append(1)\n",
    "    stack.append(2)\n",
    "    stack.append(3)\n",
    "    \n",
    "    value = 4\n",
    "    \n",
    "    stack = insert(stack, value)\n",
    "    \n",
    "    print(stack)\n",
    "\n",
    "main()"
   ]
  },
  {
   "cell_type": "code",
   "execution_count": null,
   "id": "12c4a4d2",
   "metadata": {},
   "outputs": [],
   "source": []
  }
 ],
 "metadata": {
  "kernelspec": {
   "display_name": "Python 3 (ipykernel)",
   "language": "python",
   "name": "python3"
  },
  "language_info": {
   "codemirror_mode": {
    "name": "ipython",
    "version": 3
   },
   "file_extension": ".py",
   "mimetype": "text/x-python",
   "name": "python",
   "nbconvert_exporter": "python",
   "pygments_lexer": "ipython3",
   "version": "3.11.4"
  }
 },
 "nbformat": 4,
 "nbformat_minor": 5
}
